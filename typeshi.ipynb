{
 "cells": [
  {
   "cell_type": "code",
   "execution_count": 9,
   "metadata": {},
   "outputs": [],
   "source": [
    "from shared.color_schemes import plot_palette\n",
    "from shared.color_schemes import GRUVBOX, EVERBLUSH, CATPPUCCIN_MACCHIATO, EVERFOREST, NORD, schemes\n",
    "\n",
    "from scipy.spatial import KDTree\n",
    "\n",
    "from typing import Literal\n",
    "\n",
    "\n",
    "EXAMPLE_PALETTE_DARK = {\n",
    "    \"bg\": (17, 19, 26),\n",
    "    \"fg\": (198, 208, 245),\n",
    "    \"fg-dark\": (122, 132, 120),\n",
    "    \"base\": (48, 52, 70),\n",
    "    \"blue\": (140, 170, 238),\n",
    "    \"red\": (231, 130, 132),\n",
    "    \"green\": (166, 209, 137),\n",
    "    \"yellow\": (229, 200, 144),\n",
    "    \"shadow\": (8, 9, 13),\n",
    "    \"glow\": (226, 231, 250),\n",
    "}\n",
    "EXAMPLE_PALETTE_LIGHT = {\n",
    "    \"fg\": (17, 19, 26),\n",
    "    \"fg-dark\": (0, 0, 0),\n",
    "    \"bg\": (198, 208, 245),\n",
    "    \"base\": (48, 52, 70),\n",
    "    \"blue\": (140, 170, 238),\n",
    "    \"red\": (231, 130, 132),\n",
    "    \"green\": (166, 209, 137),\n",
    "    \"yellow\": (229, 200, 144),\n",
    "    \"shadow\": (8, 9, 13),\n",
    "    \"glow\": (226, 231, 250),\n",
    "}\n",
    "\n",
    "def generate_core_scheme(\n",
    "    color_scheme: list[tuple[int, int, int]],\n",
    "    example_palette: dict[str, tuple[int, int, int]] | None = None,\n",
    "    mode: Literal[\"dark\", \"light\"] = \"dark\",\n",
    "    k: int = 2,\n",
    ") -> dict[str, tuple[int, int, int]]:\n",
    "    # create KDTree for querying\n",
    "    tree = KDTree(color_scheme)\n",
    "\n",
    "    output_scheme: dict[str, tuple[int, int, int]] = {}\n",
    "    \n",
    "    if example_palette is not None:\n",
    "        template = example_palette\n",
    "    else:\n",
    "        match mode:\n",
    "            case \"dark\":\n",
    "                template = EXAMPLE_PALETTE_DARK\n",
    "            case \"light\":\n",
    "                template = EXAMPLE_PALETTE_LIGHT\n",
    "    \n",
    "\n",
    "    for name, color in template.items():\n",
    "        _, idx = tree.query(color, k=2)\n",
    "\n",
    "        for n, i in enumerate(idx):\n",
    "            output_scheme[f\"{name}{n + 1}\"] = color_scheme[i]\n",
    "    return output_scheme\n",
    "\n",
    "\n",
    "def generate_css(color_dict, hex_output: bool = True):\n",
    "    css_lines = [\":vars {\"]\n",
    "\n",
    "    for key, value in color_dict.items():\n",
    "        v = f\"rgb{str(value)}\" if not hex_output else \"#\" + \"\".join([hex(n)[2:] for n in value])\n",
    "        css_lines.append(f\"    --{key}: {v};\")\n",
    "    css_lines.append(\"    --shadow: mix(var(--bg1), #000000, 0.5);\")\n",
    "    css_lines.append(\"    --glow: lighter(var(--fg1));\")\n",
    "    css_lines.append(\"}\")\n",
    "    return \"\\n\".join(css_lines)\n",
    "\n",
    "\n"
   ]
  },
  {
   "cell_type": "code",
   "execution_count": 11,
   "metadata": {},
   "outputs": [
    {
     "name": "stdout",
     "output_type": "stream",
     "text": [
      ":vars {\n",
      "    --bg1: #141b1e;\n",
      "    --bg2: #232a2d;\n",
      "    --fg1: #dadada;\n",
      "    --fg2: #eceff4;\n",
      "    --fg-dark1: #7a8478;\n",
      "    --fg-dark2: #859289;\n",
      "    --base1: #2d353b;\n",
      "    --base2: #343f44;\n",
      "    --blue1: #71baf2;\n",
      "    --blue2: #67b0e8;\n",
      "    --red1: #e67e80;\n",
      "    --red2: #ef7e7e;\n",
      "    --green1: #96d988;\n",
      "    --green2: #a7c080;\n",
      "    --yellow1: #dbbc7f;\n",
      "    --yellow2: #f4d67a;\n",
      "    --shadow1: #141b1e;\n",
      "    --shadow2: #232a2d;\n",
      "    --glow1: #eceff4;\n",
      "    --glow2: #dadada;\n",
      "    --shadow: mix(var(--bg1), #000000, 0.5);\n",
      "    --glow: lighter(var(--fg1));\n",
      "}\n"
     ]
    },
    {
     "data": {
      "image/png": "[encoded data removed]",
      "text/plain": [
       "<Figure size 640x480 with 20 Axes>"
      ]
     },
     "metadata": {},
     "output_type": "display_data"
    }
   ],
   "source": [
    "scheme = schemes['everblush']\n",
    "\n",
    "newscheme = generate_core_scheme(scheme, mode=\"dark\")\n",
    "plot_palette([col for col in newscheme.values()])\n",
    "\n",
    "print(\n",
    "    generate_css(newscheme, True)\n",
    ")"
   ]
  },
  {
   "cell_type": "code",
   "execution_count": 13,
   "metadata": {},
   "outputs": [
    {
     "name": "stdout",
     "output_type": "stream",
     "text": [
      "bg1 141b1e\n",
      "bg2 232a2d\n",
      "fg1 dadada\n",
      "fg2 eceff4\n",
      "fg-dark1 7a8478\n",
      "fg-dark2 859289\n",
      "base1 2d353b\n",
      "base2 343f44\n",
      "blue1 71baf2\n",
      "blue2 67b0e8\n",
      "red1 e67e80\n",
      "red2 ef7e7e\n",
      "green1 96d988\n",
      "green2 a7c080\n",
      "yellow1 dbbc7f\n",
      "yellow2 f4d67a\n",
      "shadow1 141b1e\n",
      "shadow2 232a2d\n",
      "glow1 eceff4\n",
      "glow2 dadada\n"
     ]
    },
    {
     "ename": "",
     "evalue": "",
     "output_type": "error",
     "traceback": [
      "\u001b[1;31mThe Kernel crashed while executing code in the current cell or a previous cell. \n",
      "\u001b[1;31mPlease review the code in the cell(s) to identify a possible cause of the failure. \n",
      "\u001b[1;31mClick <a href='https://aka.ms/vscodeJupyterKernelCrash'>here</a> for more info. \n",
      "\u001b[1;31mView Jupyter <a href='command:jupyter.viewOutput'>log</a> for further details."
     ]
    }
   ],
   "source": [
    "for name, color in newscheme.items():\n",
    "    h = \"\".join([hex(v)[2:] for v in color])\n",
    "    print(name, h)"
   ]
  }
 ],
 "metadata": {
  "kernelspec": {
   "display_name": "Python 3",
   "language": "python",
   "name": "python3"
  },
  "language_info": {
   "codemirror_mode": {
    "name": "ipython",
    "version": 3
   },
   "file_extension": ".py",
   "mimetype": "text/x-python",
   "name": "python",
   "nbconvert_exporter": "python",
   "pygments_lexer": "ipython3",
   "version": "3.12.7"
  }
 },
 "nbformat": 4,
 "nbformat_minor": 2
}
